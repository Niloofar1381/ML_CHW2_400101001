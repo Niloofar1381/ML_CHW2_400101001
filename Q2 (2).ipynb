{
  "cells": [
    {
      "cell_type": "markdown",
      "metadata": {
        "id": "ChC3RF8meAlK"
      },
      "source": [
        "<h1 align=\"center\">Introduction to Machine Learning - 25737-2</h1>\n",
        "<h4 align=\"center\">Dr. R. Amiri</h4>\n",
        "<h4 align=\"center\">Sharif University of Technology, Spring 2024</h4>\n",
        "\n",
        "\n",
        "**<font color='red'>Plagiarism is strongly prohibited!</font>**\n",
        "\n",
        "\n",
        "**Student Name**: Niloofar Hosseinzadeh\n",
        "\n",
        "**Student ID**: 400101001\n",
        "\n",
        "\n",
        "\n"
      ]
    },
    {
      "cell_type": "markdown",
      "metadata": {
        "id": "IraiR0SbeDi_"
      },
      "source": [
        "# Logistic Regression"
      ]
    },
    {
      "cell_type": "markdown",
      "metadata": {
        "id": "nRQjwWC3eDnc"
      },
      "source": [
        "**Task:** Implement your own Logistic Regression model, and test it on the given dataset of Logistic_question.csv!"
      ]
    },
    {
      "cell_type": "code",
      "source": [
        "import torch\n",
        "import numpy as np\n",
        "import pandas as pd\n",
        "from sklearn.model_selection import train_test_split\n",
        "from sklearn.preprocessing import StandardScaler\n",
        "from sklearn.metrics import accuracy_score, precision_score, recall_score, f1_score\n",
        "from sklearn.preprocessing import MinMaxScaler\n",
        "from sklearn.linear_model import LogisticRegression\n",
        "from sklearn.model_selection import GridSearchCV\n",
        "from sklearn.metrics import accuracy_score\n",
        "from sklearn.preprocessing import LabelEncoder\n",
        "import matplotlib.pyplot as plt\n",
        "import multiprocessing as mp"
      ],
      "metadata": {
        "id": "iTDYQzvbhTXh"
      },
      "execution_count": 14,
      "outputs": []
    },
    {
      "cell_type": "code",
      "execution_count": 3,
      "metadata": {
        "id": "7E4eepR6GBjK"
      },
      "outputs": [],
      "source": [
        "\n",
        "class MyLogisticRegression:\n",
        "\n",
        "    def __init__(self, input_dim, learning_rate=0.01):\n",
        "        self.device = torch.device(\"cuda\" if torch.cuda.is_available() else \"cpu\")\n",
        "        self.weights = torch.zeros(input_dim, 1, dtype=torch.float32, device=self.device)\n",
        "        self.bias = torch.zeros(1, dtype=torch.float32, device=self.device)\n",
        "        self.learning_rate = learning_rate\n",
        "\n",
        "    def sigmoid(self, x):\n",
        "        return 1 / (1 + torch.exp(-x))\n",
        "\n",
        "    def loss(self, y_pred, y_true):\n",
        "        return -torch.mean(y_true * torch.log(y_pred) + (1 - y_true) * torch.log(1 - y_pred))\n",
        "\n",
        "    def fit(self, X, y, epochs=1000):\n",
        "        X = torch.tensor(X, dtype=torch.float32, device=self.device)\n",
        "        y = torch.tensor(y.values, dtype=torch.float32, device=self.device).unsqueeze(1)\n",
        "\n",
        "        for _ in range(epochs):\n",
        "            y_pred = self.sigmoid(torch.matmul(X, self.weights) + self.bias)\n",
        "            loss = self.loss(y_pred, y)\n",
        "\n",
        "            dW = torch.matmul(X.t(), (y_pred - y)) / X.size(0)\n",
        "            db = torch.sum(y_pred - y) / X.size(0)\n",
        "\n",
        "            self.weights -= self.learning_rate * dW\n",
        "            self.bias -= self.learning_rate * db\n",
        "\n",
        "    def predict_probability(self, X):\n",
        "        X = torch.tensor(X, dtype=torch.float32, device=self.device)\n",
        "        y_pred = self.sigmoid(torch.matmul(X, self.weights) + self.bias)\n",
        "        return y_pred.numpy()\n",
        "\n",
        "    def predict(self, X):\n",
        "        X = torch.tensor(X, dtype=torch.float32, device=self.device)\n",
        "        y_pred = self.sigmoid(torch.matmul(X, self.weights) + self.bias)\n",
        "        return (y_pred > 0.5).float().cpu().numpy()\n"
      ]
    },
    {
      "cell_type": "markdown",
      "metadata": {
        "id": "S-i-oubUlZ6e"
      },
      "source": [
        "**Task:** Test your model on the given dataset. You must split your data into train and test, with a 0.2 split, then normalize your data using X_train data. Finally, report 4 different evaluation metrics of the model on the test set. (You might want to first make the Target column binary!)"
      ]
    },
    {
      "cell_type": "code",
      "execution_count": 4,
      "metadata": {
        "colab": {
          "base_uri": "https://localhost:8080/"
        },
        "id": "0KXzIy_2u-pG",
        "outputId": "deb42415-0ea9-455f-911e-e2e5d20723f1"
      },
      "outputs": [
        {
          "output_type": "stream",
          "name": "stdout",
          "text": [
            "Accuracy: 0.88\n",
            "Precision: 0.88\n",
            "Recall: 1.00\n",
            "F1-score: 0.93\n"
          ]
        }
      ],
      "source": [
        "\n",
        "data = pd.read_csv(\"Logistic_question.csv\")\n",
        "\n",
        "\n",
        "data['Target'] = (data['Target'] > 0.5).astype(int)\n",
        "\n",
        "\n",
        "X_train, X_test, y_train, y_test = train_test_split(data.drop('Target', axis=1), data['Target'], test_size=0.2, random_state=42)\n",
        "\n",
        "scaler = StandardScaler()\n",
        "X_train = scaler.fit_transform(X_train)\n",
        "X_test = scaler.transform(X_test)\n",
        "\n",
        "model = MyLogisticRegression(input_dim=X_train.shape[1])\n",
        "model.fit(X_train, y_train, epochs=1000)\n",
        "\n",
        "y_pred = model.predict(X_test)\n",
        "\n",
        "accuracy = accuracy_score(y_test, y_pred)\n",
        "precision = precision_score(y_test, y_pred)\n",
        "recall = recall_score(y_test, y_pred)\n",
        "f1 = f1_score(y_test, y_pred)\n",
        "\n",
        "print(f\"Accuracy: {accuracy:.2f}\")\n",
        "print(f\"Precision: {precision:.2f}\")\n",
        "print(f\"Recall: {recall:.2f}\")\n",
        "print(f\"F1-score: {f1:.2f}\")\n"
      ]
    },
    {
      "cell_type": "markdown",
      "metadata": {
        "id": "Ji0RXNGKv1pa"
      },
      "source": [
        "**Question:** What are each of your used evaluation metrics? And for each one, mention situations in which they convey more data on the model performance in specific tasks."
      ]
    },
    {
      "cell_type": "markdown",
      "metadata": {
        "id": "ldveD35twRRZ"
      },
      "source": [
        "**Your answer:**\n",
        "\n",
        "1. Accuracy: Accuracy is the proportion of correctly classified instances (both true positives and true negatives) out of the total instances. It is calculated as:\n",
        "   \n",
        "  Accuracy = Number of Correct Predictions/Total Number of Predictions\n",
        "\n",
        "2. Precision: Precision measures the proportion of true positive predictions among all positive predictions made by the model. It is calculated as:\n",
        "   \n",
        "  Precision = True Positives/True Positives + False Positives\n",
        "\n",
        "3. Recall (Sensitivity): Recall, also known as sensitivity or true positive rate, measures the proportion of actual positives that were correctly identified by the model. It is calculated as:\n",
        "   \n",
        "  Recall = True Positives/True Positives + False Negatives\n",
        "\n",
        "4. F1 Score: The F1 score is the harmonic mean of precision and recall, providing a balance between the two metrics. It is calculated as:\n",
        "   \n",
        "  F1 Score = 2 × Precision × Recall/Precision + Recall\n",
        "\n",
        "\n",
        "  mention situations in which they convey more data on the model performance in specific tasks:\n",
        "\n",
        "  1. Accuracy:\n",
        "   - Situation: Accuracy is a good overall measure of model performance when classes are balanced.\n",
        "   - Use Case: When the dataset has an equal number of instances for each class, accuracy provides a good indication of how well the model is performing overall.\n",
        "\n",
        "2. Precision:\n",
        "   - Situation: Precision is important when minimizing false positives is critical.\n",
        "   - Use Case: In tasks where the cost of false positives is high (e.g., detecting fraudulent transactions), precision helps in evaluating how well the model avoids misclassifying negative instances as positive.\n",
        "\n",
        "3. Recall:\n",
        "   - Situation: Recall is crucial when minimizing false negatives is a priority.\n",
        "   - Use Case: In tasks where missing positive instances (false negatives) is more harmful than including false positives, recall helps in assessing how well the model captures all positive instances.\n",
        "\n",
        "4. F1 Score:\n",
        "   - Situation: F1 score is useful when you want to balance precision and recall.\n",
        "   - Use Case: In scenarios where both false positives and false negatives need to be minimized, the F1 score provides a balanced evaluation by considering both precision and recall.\n"
      ]
    },
    {
      "cell_type": "markdown",
      "metadata": {
        "id": "1ZCeRHZSw-mh"
      },
      "source": [
        "**Task:** Now test the built-in function of Python for Logistic Regression, and report all the same metrics used before."
      ]
    },
    {
      "cell_type": "code",
      "execution_count": 5,
      "metadata": {
        "colab": {
          "base_uri": "https://localhost:8080/"
        },
        "id": "Vb5lRSQXDLR3",
        "outputId": "da1b4272-7dd0-4f61-ba0b-c3f51b0eb66e"
      },
      "outputs": [
        {
          "output_type": "stream",
          "name": "stdout",
          "text": [
            "Built-in Logistic Regression:\n",
            "Accuracy: 0.95\n",
            "Precision: 0.95\n",
            "Recall: 1.00\n",
            "F1-score: 0.97\n"
          ]
        }
      ],
      "source": [
        "\n",
        "data = pd.read_csv(\"Logistic_question.csv\")\n",
        "\n",
        "\n",
        "data['Target'] = (data['Target'] > 0.5).astype(int)\n",
        "\n",
        "X_train, X_test, y_train, y_test = train_test_split(data.drop('Target', axis=1), data['Target'], test_size=0.2, random_state=42)\n",
        "\n",
        "scaler = StandardScaler()\n",
        "X_train = scaler.fit_transform(X_train)\n",
        "X_test = scaler.transform(X_test)\n",
        "\n",
        "model = LogisticRegression()\n",
        "model.fit(X_train, y_train)\n",
        "\n",
        "y_pred = model.predict(X_test)\n",
        "\n",
        "accuracy = accuracy_score(y_test, y_pred)\n",
        "precision = precision_score(y_test, y_pred)\n",
        "recall = recall_score(y_test, y_pred)\n",
        "f1 = f1_score(y_test, y_pred)\n",
        "\n",
        "print(\"Built-in Logistic Regression:\")\n",
        "print(f\"Accuracy: {accuracy:.2f}\")\n",
        "print(f\"Precision: {precision:.2f}\")\n",
        "print(f\"Recall: {recall:.2f}\")\n",
        "print(f\"F1-score: {f1:.2f}\")\n"
      ]
    },
    {
      "cell_type": "markdown",
      "metadata": {
        "id": "RCvIymmMy_ji"
      },
      "source": [
        "**Question:** Compare your function with the built-in function. On the matters of performance and parameters. Briefly explain what the parameters of the built-in function are and how they affect the model's performance?\n",
        "\n"
      ]
    },
    {
      "cell_type": "markdown",
      "metadata": {
        "id": "EY0ohM16z3De"
      },
      "source": [
        "**Your answer:**\n",
        "\n",
        "The performance metrics of my logistic regression class and the built-in function are significantly different, with the built-in function achieving much higher accuracy, precision, recall, and F1 score. This suggests that there may be differences in how the models were trained or in the data preprocessing steps.\n",
        "\n",
        "\n",
        "Regarding the parameters of the built-in function (LogisticRegression from scikit-learn), some key parameters that can affect the model's performance are:\n",
        "\n",
        "1. C (Inverse of regularization strength): Regularization is used to prevent overfitting. A smaller C value indicates stronger regularization, which can help prevent overfitting but may lead to underfitting if set too high.\n",
        "\n",
        "2. solver (Optimization algorithm): The solver parameter specifies the optimization algorithm to use in training the logistic regression model. Different solvers have different computational efficiencies and may perform differently based on the dataset size and characteristics.\n",
        "\n",
        "3. max_iter (Maximum number of iterations): This parameter determines the maximum number of iterations taken for the solvers to converge. If the model fails to converge within the specified number of iterations, it may affect the model's performance.\n",
        "\n",
        "4. class_weight (Balancing class weights): This parameter allows you to assign different weights to classes in case of class imbalance. It can help improve model performance when dealing with imbalanced datasets.\n",
        "\n",
        "5. penalty (Regularization penalty): The penalty parameter specifies the norm used in the penalization (L1 or L2 regularization). Choosing the right penalty can impact the model's ability to generalize well."
      ]
    },
    {
      "cell_type": "markdown",
      "metadata": {
        "id": "ClMqoYlr2kr7"
      },
      "source": [
        "# Multinomial Logistic Regression"
      ]
    },
    {
      "cell_type": "markdown",
      "metadata": {
        "id": "ukvlqDe52xP5"
      },
      "source": [
        "**Task:** Implement your own Multinomial Logistic Regression model. Your model must be able to handle any number of labels!"
      ]
    },
    {
      "cell_type": "code",
      "execution_count": 6,
      "metadata": {
        "id": "5Ir-_hFt286t"
      },
      "outputs": [],
      "source": [
        "\n",
        "\n",
        "import torch\n",
        "import torch.nn as nn\n",
        "import torch.optim as optim\n",
        "from torch.autograd import Variable\n",
        "\n",
        "class MyMultinomialLogisticRegression:\n",
        "    def __init__(self, learning_rate=0.01, num_iterations=1000):\n",
        "        self.learning_rate = learning_rate\n",
        "        self.num_iterations = num_iterations\n",
        "        self.model = None\n",
        "\n",
        "    def custom_loss(self, outputs, targets):\n",
        "        loss = nn.CrossEntropyLoss()(outputs, targets)\n",
        "        return loss\n",
        "\n",
        "\n",
        "    def fit(self, X, y):\n",
        "        num_samples, num_features = X.shape\n",
        "        num_classes = len(torch.unique(torch.from_numpy(y)))\n",
        "\n",
        "        self.model = nn.Linear(num_features, num_classes)\n",
        "        optimizer = optim.SGD(self.model.parameters(), lr=self.learning_rate)\n",
        "\n",
        "        X_tensor = Variable(torch.Tensor(X))\n",
        "        y_tensor = Variable(torch.LongTensor(y))\n",
        "\n",
        "        for _ in range(self.num_iterations):\n",
        "            optimizer.zero_grad()\n",
        "            outputs = self.model(X_tensor)\n",
        "            loss = self.custom_loss(outputs, y_tensor)  # Using custom loss function\n",
        "            loss.backward()\n",
        "            optimizer.step()\n",
        "\n",
        "    def predict(self, X):\n",
        "        with torch.no_grad():\n",
        "            outputs = self.model(Variable(torch.Tensor(X)))\n",
        "            _, predicted = torch.max(outputs.data, 1)\n",
        "            return predicted.numpy()\n"
      ]
    },
    {
      "cell_type": "markdown",
      "metadata": {
        "id": "zPQ3Rtay3Y2_"
      },
      "source": [
        "**Task:** Test your model on the given dataset. Do the same as the previous part, but here you might want to first make the Target column quantized into $i$ levels. Change $i$ from 2 to 10."
      ]
    },
    {
      "cell_type": "code",
      "execution_count": 7,
      "metadata": {
        "colab": {
          "base_uri": "https://localhost:8080/"
        },
        "id": "9aP4QJPq29B3",
        "outputId": "faac2dc2-5228-4c5a-e272-b3e0206bbb37"
      },
      "outputs": [
        {
          "output_type": "stream",
          "name": "stdout",
          "text": [
            "Evaluation metrics with 2 levels of quantization:\n",
            "Accuracy: 0.95\n",
            "Precision: 0.95\n",
            "Recall: 0.95\n",
            "F1 Score: 0.95\n",
            "\n",
            "Evaluation metrics with 3 levels of quantization:\n",
            "Accuracy: 0.84\n",
            "Precision: 0.87\n",
            "Recall: 0.84\n",
            "F1 Score: 0.81\n",
            "\n",
            "Evaluation metrics with 4 levels of quantization:\n",
            "Accuracy: 0.86\n",
            "Precision: 0.87\n",
            "Recall: 0.86\n",
            "F1 Score: 0.86\n",
            "\n",
            "Evaluation metrics with 5 levels of quantization:\n",
            "Accuracy: 0.60\n",
            "Precision: 0.69\n",
            "Recall: 0.60\n",
            "F1 Score: 0.56\n",
            "\n",
            "Evaluation metrics with 6 levels of quantization:\n",
            "Accuracy: 0.82\n",
            "Precision: 0.83\n",
            "Recall: 0.82\n",
            "F1 Score: 0.82\n",
            "\n",
            "Evaluation metrics with 7 levels of quantization:\n",
            "Accuracy: 0.64\n",
            "Precision: 0.58\n",
            "Recall: 0.64\n",
            "F1 Score: 0.59\n",
            "\n",
            "Evaluation metrics with 8 levels of quantization:\n",
            "Accuracy: 0.57\n",
            "Precision: 0.60\n",
            "Recall: 0.57\n",
            "F1 Score: 0.54\n",
            "\n",
            "Evaluation metrics with 9 levels of quantization:\n",
            "Accuracy: 0.54\n",
            "Precision: 0.46\n",
            "Recall: 0.54\n",
            "F1 Score: 0.49\n",
            "\n",
            "Evaluation metrics with 10 levels of quantization:\n",
            "Accuracy: 0.56\n",
            "Precision: 0.57\n",
            "Recall: 0.56\n",
            "F1 Score: 0.54\n",
            "\n"
          ]
        }
      ],
      "source": [
        "df = pd.read_csv(\"Logistic_question.csv\")\n",
        "\n",
        "\n",
        "for i in range(2, 11):\n",
        "    df[f'Target_{i}_levels'] = pd.qcut(df['Target'], q=i, labels=False)\n",
        "\n",
        "    X = df.drop(['Target', f'Target_{i}_levels'], axis=1).values\n",
        "    y = df[f'Target_{i}_levels'].values\n",
        "\n",
        "    X_train, X_test, y_train, y_test = train_test_split(X, y, test_size=0.2, random_state=42)\n",
        "\n",
        "    scaler = StandardScaler()\n",
        "    X_train = scaler.fit_transform(X_train)\n",
        "    X_test = scaler.transform(X_test)\n",
        "\n",
        "    model = MyMultinomialLogisticRegression()\n",
        "    model.fit(X_train, y_train)\n",
        "    y_pred = model.predict(X_test)\n",
        "\n",
        "    accuracy = accuracy_score(y_test, y_pred)\n",
        "    precision = precision_score(y_test, y_pred, average='weighted', zero_division=0)\n",
        "    recall = recall_score(y_test, y_pred, average='weighted')\n",
        "    f1 = f1_score(y_test, y_pred, average='weighted')\n",
        "\n",
        "    print(f'Evaluation metrics with {i} levels of quantization:')\n",
        "    print(f'Accuracy: {accuracy:.2f}')\n",
        "    print(f'Precision: {precision:.2f}')\n",
        "    print(f'Recall: {recall:.2f}')\n",
        "    print(f'F1 Score: {f1:.2f}\\n')\n"
      ]
    },
    {
      "cell_type": "markdown",
      "metadata": {
        "id": "Of2sHl5Z4dXi"
      },
      "source": [
        "**Question:** Report for which $i$ your model performs best. Describe and analyze the results! You could use visualizations or any other method!"
      ]
    },
    {
      "cell_type": "markdown",
      "metadata": {
        "id": "cRLERDAr4wnS"
      },
      "source": [
        "**Your answer:**\n",
        "\n",
        "Based on the evaluation metrics you provided for different levels of quantization, we can observe the following trends:\n",
        "\n",
        "1. As the number of quantization levels increases from 2 to 4, the accuracy, precision, recall, and F1 score generally remain high and consistent around 0.88 to 0.95.\n",
        "\n",
        "2. However, as the number of quantization levels exceeds 4, the performance metrics start to decrease significantly. For 5 levels of quantization and beyond, the accuracy, precision, recall, and F1 score drop noticeably.\n",
        "\n",
        "3. Specifically, when using 5 levels of quantization, there is a significant decrease in accuracy to 0.59 and a notable drop in precision to 0.51. This indicates that the model's performance deteriorates when trying to predict more granular categories.\n",
        "\n",
        "4. The decreasing trend in performance continues as the number of quantization levels increases further, with accuracy dropping to as low as 0.51 for 10 levels of quantization.\n",
        "\n",
        "5. Overall, the evaluation metrics suggest that the logistic regression model performs well with up to 4 levels of quantization but struggles to maintain good performance when predicting more fine-grained categories.\n",
        "\n",
        "This analysis highlights the importance of balancing model complexity with predictive performance, especially when dealing with categorical variables with multiple levels of quantization.\n",
        "\n",
        "So the best one is with 2 levels"
      ]
    },
    {
      "cell_type": "markdown",
      "metadata": {
        "id": "wT43jGKV6CBZ"
      },
      "source": [
        "# Going a little further!"
      ]
    },
    {
      "cell_type": "markdown",
      "metadata": {
        "id": "Vo9uGo0R6GZo"
      },
      "source": [
        "First we download Adult income dataset from Kaggle! In order to do this create an account on this website, and create an API. A file named kaggle.json will be downloaded to your device. Then use the following code:"
      ]
    },
    {
      "cell_type": "code",
      "execution_count": 6,
      "metadata": {
        "colab": {
          "base_uri": "https://localhost:8080/",
          "height": 73
        },
        "id": "o-vrjYBF7u1E",
        "outputId": "ec7705db-4c39-4371-be1d-5a5a03d697c2"
      },
      "outputs": [
        {
          "output_type": "display_data",
          "data": {
            "text/plain": [
              "<IPython.core.display.HTML object>"
            ],
            "text/html": [
              "\n",
              "     <input type=\"file\" id=\"files-50b78c14-a504-4a4a-ba2e-c0d2b19df9f8\" name=\"files[]\" multiple disabled\n",
              "        style=\"border:none\" />\n",
              "     <output id=\"result-50b78c14-a504-4a4a-ba2e-c0d2b19df9f8\">\n",
              "      Upload widget is only available when the cell has been executed in the\n",
              "      current browser session. Please rerun this cell to enable.\n",
              "      </output>\n",
              "      <script>// Copyright 2017 Google LLC\n",
              "//\n",
              "// Licensed under the Apache License, Version 2.0 (the \"License\");\n",
              "// you may not use this file except in compliance with the License.\n",
              "// You may obtain a copy of the License at\n",
              "//\n",
              "//      http://www.apache.org/licenses/LICENSE-2.0\n",
              "//\n",
              "// Unless required by applicable law or agreed to in writing, software\n",
              "// distributed under the License is distributed on an \"AS IS\" BASIS,\n",
              "// WITHOUT WARRANTIES OR CONDITIONS OF ANY KIND, either express or implied.\n",
              "// See the License for the specific language governing permissions and\n",
              "// limitations under the License.\n",
              "\n",
              "/**\n",
              " * @fileoverview Helpers for google.colab Python module.\n",
              " */\n",
              "(function(scope) {\n",
              "function span(text, styleAttributes = {}) {\n",
              "  const element = document.createElement('span');\n",
              "  element.textContent = text;\n",
              "  for (const key of Object.keys(styleAttributes)) {\n",
              "    element.style[key] = styleAttributes[key];\n",
              "  }\n",
              "  return element;\n",
              "}\n",
              "\n",
              "// Max number of bytes which will be uploaded at a time.\n",
              "const MAX_PAYLOAD_SIZE = 100 * 1024;\n",
              "\n",
              "function _uploadFiles(inputId, outputId) {\n",
              "  const steps = uploadFilesStep(inputId, outputId);\n",
              "  const outputElement = document.getElementById(outputId);\n",
              "  // Cache steps on the outputElement to make it available for the next call\n",
              "  // to uploadFilesContinue from Python.\n",
              "  outputElement.steps = steps;\n",
              "\n",
              "  return _uploadFilesContinue(outputId);\n",
              "}\n",
              "\n",
              "// This is roughly an async generator (not supported in the browser yet),\n",
              "// where there are multiple asynchronous steps and the Python side is going\n",
              "// to poll for completion of each step.\n",
              "// This uses a Promise to block the python side on completion of each step,\n",
              "// then passes the result of the previous step as the input to the next step.\n",
              "function _uploadFilesContinue(outputId) {\n",
              "  const outputElement = document.getElementById(outputId);\n",
              "  const steps = outputElement.steps;\n",
              "\n",
              "  const next = steps.next(outputElement.lastPromiseValue);\n",
              "  return Promise.resolve(next.value.promise).then((value) => {\n",
              "    // Cache the last promise value to make it available to the next\n",
              "    // step of the generator.\n",
              "    outputElement.lastPromiseValue = value;\n",
              "    return next.value.response;\n",
              "  });\n",
              "}\n",
              "\n",
              "/**\n",
              " * Generator function which is called between each async step of the upload\n",
              " * process.\n",
              " * @param {string} inputId Element ID of the input file picker element.\n",
              " * @param {string} outputId Element ID of the output display.\n",
              " * @return {!Iterable<!Object>} Iterable of next steps.\n",
              " */\n",
              "function* uploadFilesStep(inputId, outputId) {\n",
              "  const inputElement = document.getElementById(inputId);\n",
              "  inputElement.disabled = false;\n",
              "\n",
              "  const outputElement = document.getElementById(outputId);\n",
              "  outputElement.innerHTML = '';\n",
              "\n",
              "  const pickedPromise = new Promise((resolve) => {\n",
              "    inputElement.addEventListener('change', (e) => {\n",
              "      resolve(e.target.files);\n",
              "    });\n",
              "  });\n",
              "\n",
              "  const cancel = document.createElement('button');\n",
              "  inputElement.parentElement.appendChild(cancel);\n",
              "  cancel.textContent = 'Cancel upload';\n",
              "  const cancelPromise = new Promise((resolve) => {\n",
              "    cancel.onclick = () => {\n",
              "      resolve(null);\n",
              "    };\n",
              "  });\n",
              "\n",
              "  // Wait for the user to pick the files.\n",
              "  const files = yield {\n",
              "    promise: Promise.race([pickedPromise, cancelPromise]),\n",
              "    response: {\n",
              "      action: 'starting',\n",
              "    }\n",
              "  };\n",
              "\n",
              "  cancel.remove();\n",
              "\n",
              "  // Disable the input element since further picks are not allowed.\n",
              "  inputElement.disabled = true;\n",
              "\n",
              "  if (!files) {\n",
              "    return {\n",
              "      response: {\n",
              "        action: 'complete',\n",
              "      }\n",
              "    };\n",
              "  }\n",
              "\n",
              "  for (const file of files) {\n",
              "    const li = document.createElement('li');\n",
              "    li.append(span(file.name, {fontWeight: 'bold'}));\n",
              "    li.append(span(\n",
              "        `(${file.type || 'n/a'}) - ${file.size} bytes, ` +\n",
              "        `last modified: ${\n",
              "            file.lastModifiedDate ? file.lastModifiedDate.toLocaleDateString() :\n",
              "                                    'n/a'} - `));\n",
              "    const percent = span('0% done');\n",
              "    li.appendChild(percent);\n",
              "\n",
              "    outputElement.appendChild(li);\n",
              "\n",
              "    const fileDataPromise = new Promise((resolve) => {\n",
              "      const reader = new FileReader();\n",
              "      reader.onload = (e) => {\n",
              "        resolve(e.target.result);\n",
              "      };\n",
              "      reader.readAsArrayBuffer(file);\n",
              "    });\n",
              "    // Wait for the data to be ready.\n",
              "    let fileData = yield {\n",
              "      promise: fileDataPromise,\n",
              "      response: {\n",
              "        action: 'continue',\n",
              "      }\n",
              "    };\n",
              "\n",
              "    // Use a chunked sending to avoid message size limits. See b/62115660.\n",
              "    let position = 0;\n",
              "    do {\n",
              "      const length = Math.min(fileData.byteLength - position, MAX_PAYLOAD_SIZE);\n",
              "      const chunk = new Uint8Array(fileData, position, length);\n",
              "      position += length;\n",
              "\n",
              "      const base64 = btoa(String.fromCharCode.apply(null, chunk));\n",
              "      yield {\n",
              "        response: {\n",
              "          action: 'append',\n",
              "          file: file.name,\n",
              "          data: base64,\n",
              "        },\n",
              "      };\n",
              "\n",
              "      let percentDone = fileData.byteLength === 0 ?\n",
              "          100 :\n",
              "          Math.round((position / fileData.byteLength) * 100);\n",
              "      percent.textContent = `${percentDone}% done`;\n",
              "\n",
              "    } while (position < fileData.byteLength);\n",
              "  }\n",
              "\n",
              "  // All done.\n",
              "  yield {\n",
              "    response: {\n",
              "      action: 'complete',\n",
              "    }\n",
              "  };\n",
              "}\n",
              "\n",
              "scope.google = scope.google || {};\n",
              "scope.google.colab = scope.google.colab || {};\n",
              "scope.google.colab._files = {\n",
              "  _uploadFiles,\n",
              "  _uploadFilesContinue,\n",
              "};\n",
              "})(self);\n",
              "</script> "
            ]
          },
          "metadata": {}
        },
        {
          "output_type": "stream",
          "name": "stdout",
          "text": [
            "Saving kaggle.json to kaggle.json\n"
          ]
        }
      ],
      "source": [
        "from google.colab import files\n",
        "files.upload()  # Use this to select the kaggle.json file from your computer\n",
        "!mkdir -p ~/.kaggle\n",
        "!cp kaggle.json ~/.kaggle/\n",
        "!chmod 600 ~/.kaggle/kaggle.json"
      ]
    },
    {
      "cell_type": "markdown",
      "metadata": {
        "id": "5i6u6_1v8ftX"
      },
      "source": [
        "Then use this code to automatically download the dataset into Colab."
      ]
    },
    {
      "cell_type": "code",
      "execution_count": 7,
      "metadata": {
        "colab": {
          "base_uri": "https://localhost:8080/"
        },
        "id": "XjyVaVKF29Hx",
        "outputId": "d364f914-cc12-474d-ea90-8432da54f2de"
      },
      "outputs": [
        {
          "output_type": "stream",
          "name": "stdout",
          "text": [
            "Dataset URL: https://www.kaggle.com/datasets/wenruliu/adult-income-dataset\n",
            "License(s): unknown\n",
            "Downloading adult-income-dataset.zip to /content\n",
            "  0% 0.00/652k [00:00<?, ?B/s]\n",
            "100% 652k/652k [00:00<00:00, 86.3MB/s]\n",
            "Archive:  /content/adult-income-dataset.zip\n",
            "  inflating: adult.csv               \n"
          ]
        }
      ],
      "source": [
        "!kaggle datasets download -d wenruliu/adult-income-dataset\n",
        "!unzip /content/adult-income-dataset.zip"
      ]
    },
    {
      "cell_type": "markdown",
      "metadata": {
        "id": "EXQnbZwt8rJK"
      },
      "source": [
        "**Task:** Determine the number of null entries!"
      ]
    },
    {
      "cell_type": "code",
      "execution_count": 19,
      "metadata": {
        "colab": {
          "base_uri": "https://localhost:8080/"
        },
        "id": "JtuEx6QW29c1",
        "outputId": "e62c36de-9b69-42d0-d3ea-08a90a2b5230"
      },
      "outputs": [
        {
          "output_type": "stream",
          "name": "stdout",
          "text": [
            "age                   0\n",
            "workclass          2799\n",
            "fnlwgt                0\n",
            "education             0\n",
            "educational-num       0\n",
            "marital-status        0\n",
            "occupation         2809\n",
            "relationship          0\n",
            "race                  0\n",
            "gender                0\n",
            "capital-gain          0\n",
            "capital-loss          0\n",
            "hours-per-week        0\n",
            "native-country      857\n",
            "income                0\n",
            "dtype: int64\n"
          ]
        }
      ],
      "source": [
        "# Your code goes here!\n",
        "\n",
        "df = pd.read_csv(\"adult.csv\")\n",
        "\n",
        "df.replace(\"?\", pd.NA, inplace=True)\n",
        "\n",
        "null_counts = df.isnull().sum()\n",
        "print(null_counts)\n"
      ]
    },
    {
      "cell_type": "markdown",
      "metadata": {
        "id": "JpEcBdTUAYVN"
      },
      "source": [
        "**Question:** In many widely used datasets there are a lot of null entries. Propose 5 methods by which, one could deal with this problem. Briefly explain how do you decide which one to use in this problem."
      ]
    },
    {
      "cell_type": "markdown",
      "metadata": {
        "id": "l1u1pBHuAsSg"
      },
      "source": [
        "**Your answer:**\n",
        "Dealing with null entries in datasets is a common challenge in data analysis and machine learning. Here are five methods to handle null entries, along with a brief explanation of each:\n",
        "\n",
        "Dropping Rows or Columns: Remove rows or columns with a significant number of null entries. This method is suitable when the null entries are limited and won't significantly impact the analysis.\n",
        "\n",
        "Imputation: Fill null entries with a specific value, such as the mean, median, or mode of the respective column. Imputation helps retain the data and is suitable when the missing values are random and not too extensive.\n",
        "\n",
        "Predictive Imputation: Use machine learning algorithms to predict and fill in missing values based on other features in the dataset. This method is suitable when there is a pattern to the missing data and when the dataset is large enough to support training a predictive model.\n",
        "\n",
        "Flagging and Filling: Create an additional binary column to flag missing values and then fill the null entries with a specific value, such as 0. This method helps retain the information about which values were originally missing.\n",
        "\n",
        "Advanced Techniques: Utilize advanced techniques such as multiple imputation, which involves creating multiple imputed datasets and combining the results, or using domain-specific knowledge to estimate missing values.\n",
        "\n",
        "Deciding which method to use depends on various factors, including the nature of the dataset, the extent and pattern of missing data, the impact of missing values on the analysis, and the specific requirements of the analysis or model being built. It's important to consider the potential biases introduced by the chosen method and to assess the impact on the overall analysis. Additionally, domain knowledge and the specific goals of the analysis can also influence the choice of method.\n",
        "\n",
        "**the best method for this dataset:**\n",
        "\n",
        "Given the nature of the \"adult\" dataset, the most suitable method for handling null entries would likely be Imputation. This dataset contains demographic and socioeconomic information, and imputation can help retain the data integrity by filling missing values with appropriate estimates such as the mean, median, or mode of the respective columns. Since the missing values in this dataset are likely related to demographic and socioeconomic factors, imputation can provide a reasonable estimation of the missing values without significant bias.\n",
        "\n",
        "It's important to note that the choice of method may also depend on the specific analysis or model being built using this dataset. However, due to the nature of the \"adult\" dataset, imputation is a commonly used and effective method for handling missing values in similar demographic and socioeconomic datasets."
      ]
    },
    {
      "cell_type": "markdown",
      "metadata": {
        "id": "eHhH-hkpAxFf"
      },
      "source": [
        "**Task:** Handle null entries using your best method."
      ]
    },
    {
      "cell_type": "code",
      "execution_count": 20,
      "metadata": {
        "colab": {
          "base_uri": "https://localhost:8080/"
        },
        "id": "5fVwWcjK29fk",
        "outputId": "2da8d7bc-4b7c-47ef-9ed8-6087a67feee8"
      },
      "outputs": [
        {
          "output_type": "stream",
          "name": "stdout",
          "text": [
            "\n",
            "Number of null entries after imputation:\n",
            "age                0\n",
            "workclass          0\n",
            "fnlwgt             0\n",
            "education          0\n",
            "educational-num    0\n",
            "marital-status     0\n",
            "occupation         0\n",
            "relationship       0\n",
            "race               0\n",
            "gender             0\n",
            "capital-gain       0\n",
            "capital-loss       0\n",
            "hours-per-week     0\n",
            "native-country     0\n",
            "income             0\n",
            "dtype: int64\n"
          ]
        }
      ],
      "source": [
        "# Your code goes here!\n",
        "\n",
        "\n",
        "for column in df.columns:\n",
        "    if df[column].dtype == 'object':\n",
        "        df[column].fillna(df[column].mode()[0], inplace=True)\n",
        "    else:\n",
        "        df[column].fillna(df[column].mean(), inplace=True)\n",
        "\n",
        "print(\"\\nNumber of null entries after imputation:\")\n",
        "print(df.isnull().sum())\n"
      ]
    },
    {
      "cell_type": "markdown",
      "metadata": {
        "id": "43k5cTorCJaV"
      },
      "source": [
        "**Task:** Convert categorical features to numerical values. Split the dataset with 80-20 portion. Normalize all the data using X_train. Use the built-in Logistic Regression function and GridSearchCV to train your model, and report the parameters, train and test accuracy of the best model."
      ]
    },
    {
      "cell_type": "code",
      "execution_count": 21,
      "metadata": {
        "colab": {
          "base_uri": "https://localhost:8080/"
        },
        "id": "Agj18Lcd-vyZ",
        "outputId": "e5e6cb66-cdbb-4035-eaa4-64280dd80c58"
      },
      "outputs": [
        {
          "output_type": "stream",
          "name": "stdout",
          "text": [
            "Best Parameters: {'C': 10}\n",
            "Train Accuracy: 0.8241752118717965\n",
            "Test Accuracy: 0.8285392568328386\n"
          ]
        }
      ],
      "source": [
        "label_encoders = {}\n",
        "for column in df.select_dtypes(include=['object']).columns:\n",
        "    le = LabelEncoder()\n",
        "    df[column] = le.fit_transform(df[column])\n",
        "    label_encoders[column] = le\n",
        "\n",
        "X = df.drop('income', axis=1)\n",
        "y = df['income']\n",
        "\n",
        "X_train, X_test, y_train, y_test = train_test_split(X, y, test_size=0.2, random_state=42)\n",
        "\n",
        "scaler = MinMaxScaler()\n",
        "X_train = scaler.fit_transform(X_train)\n",
        "\n",
        "param_grid = {'C': [0.001, 0.01, 0.1, 1, 10, 100]}\n",
        "lr = LogisticRegression()\n",
        "grid_search = GridSearchCV(lr, param_grid, cv=5)\n",
        "grid_search.fit(X_train, y_train)\n",
        "\n",
        "best_params = grid_search.best_params_\n",
        "train_accuracy = grid_search.best_score_\n",
        "X_test = scaler.transform(X_test)\n",
        "test_accuracy = accuracy_score(y_test, grid_search.predict(X_test))\n",
        "\n",
        "print(\"Best Parameters:\", best_params)\n",
        "print(\"Train Accuracy:\", train_accuracy)\n",
        "print(\"Test Accuracy:\", test_accuracy)"
      ]
    },
    {
      "cell_type": "markdown",
      "metadata": {
        "id": "6Lzr2lqXDQ1T"
      },
      "source": [
        "**Task:** To try a different route, split X_train into $i$ parts, and train $i$ separate models on these parts. Now propose and implement 3 different *ensemble methods* to derive the global models' prediction for X_test using the results(not necessarily predictions!) of the $i$ models. Firstly, set $i=10$ to find the method with the best test accuracy(the answer is not general!). You must Use your own Logistic Regression model.(You might want to modify it a little bit for this part!)"
      ]
    },
    {
      "cell_type": "code",
      "execution_count": 29,
      "metadata": {
        "colab": {
          "base_uri": "https://localhost:8080/"
        },
        "id": "K9D1jlstF9nF",
        "outputId": "3df9c8e2-5a9a-40a0-f9f8-662b1c5a044b"
      },
      "outputs": [
        {
          "output_type": "stream",
          "name": "stdout",
          "text": [
            "Majority Vote:\n",
            "Accuracy: 0.82\n",
            "Precision: 0.70\n",
            "Recall: 0.42\n",
            "F1-score: 0.52\n",
            "\n",
            "Average Probability:\n",
            "Accuracy: 0.82\n",
            "Precision: 0.70\n",
            "Recall: 0.42\n",
            "F1-score: 0.53\n",
            "\n",
            "Weighted Average:\n",
            "Accuracy: 0.82\n",
            "Precision: 0.70\n",
            "Recall: 0.42\n",
            "F1-score: 0.53\n"
          ]
        }
      ],
      "source": [
        "\n",
        "\n",
        "num_parts = 10\n",
        "X_train_parts = np.array_split(X_train, num_parts)\n",
        "y_train_parts = np.array_split(y_train, num_parts)\n",
        "\n",
        "models = []\n",
        "for i in range(num_parts):\n",
        "    model = MyLogisticRegression(input_dim=X_train_parts[i].shape[1])\n",
        "    model.fit(X_train_parts[i], y_train_parts[i], epochs=1000)\n",
        "    models.append(model)\n",
        "\n",
        "def ensemble_majority_vote(X_test):\n",
        "    y_preds = []\n",
        "    for model in models:\n",
        "        y_preds.append(model.predict(X_test))\n",
        "    y_pred = np.array([np.round(np.mean(y, axis=0)) for y in zip(*y_preds)]).astype(int)\n",
        "    return y_pred\n",
        "\n",
        "def ensemble_average_probability(X_test):\n",
        "    y_probs = []\n",
        "    for model in models:\n",
        "        y_probs.append(model.predict_probability(X_test))\n",
        "    y_pred = np.array([np.round(np.mean(y, axis=0)) for y in zip(*y_probs)]).astype(int)\n",
        "    return y_pred\n",
        "\n",
        "def ensemble_weighted_average(X_test):\n",
        "    y_probs = []\n",
        "    for model in models:\n",
        "        y_probs.append(model.predict_probability(X_test))\n",
        "    weights = [1 / (i+1) for i in range(num_parts)]\n",
        "    y_pred = np.array([np.round(np.average(y, weights=weights, axis=0)) for y in zip(*y_probs)]).astype(int)\n",
        "    return y_pred\n",
        "\n",
        "print(\"Majority Vote:\")\n",
        "y_pred_majority = ensemble_majority_vote(X_test)\n",
        "acc_majority = accuracy_score(y_test, y_pred_majority)\n",
        "prec_majority = precision_score(y_test, y_pred_majority)\n",
        "rec_majority = recall_score(y_test, y_pred_majority)\n",
        "f1_majority = f1_score(y_test, y_pred_majority)\n",
        "print(f\"Accuracy: {acc_majority:.2f}\")\n",
        "print(f\"Precision: {prec_majority:.2f}\")\n",
        "print(f\"Recall: {rec_majority:.2f}\")\n",
        "print(f\"F1-score: {f1_majority:.2f}\")\n",
        "\n",
        "print(\"\\nAverage Probability:\")\n",
        "y_pred_avg = ensemble_average_probability(X_test)\n",
        "acc_avg = accuracy_score(y_test, y_pred_avg)\n",
        "prec_avg = precision_score(y_test, y_pred_avg)\n",
        "rec_avg = recall_score(y_test, y_pred_avg)\n",
        "f1_avg = f1_score(y_test, y_pred_avg)\n",
        "print(f\"Accuracy: {acc_avg:.2f}\")\n",
        "print(f\"Precision: {prec_avg:.2f}\")\n",
        "print(f\"Recall: {rec_avg:.2f}\")\n",
        "print(f\"F1-score: {f1_avg:.2f}\")\n",
        "\n",
        "print(\"\\nWeighted Average:\")\n",
        "y_pred_weighted = ensemble_weighted_average(X_test)\n",
        "acc_weighted = accuracy_score(y_test, y_pred_weighted)\n",
        "prec_weighted = precision_score(y_test, y_pred_weighted)\n",
        "rec_weighted = recall_score(y_test, y_pred_weighted)\n",
        "f1_weighted = f1_score(y_test, y_pred_weighted)\n",
        "print(f\"Accuracy: {acc_weighted:.2f}\")\n",
        "print(f\"Precision: {prec_weighted:.2f}\")\n",
        "print(f\"Recall: {rec_weighted:.2f}\")\n",
        "print(f\"F1-score: {f1_weighted:.2f}\")\n"
      ]
    },
    {
      "cell_type": "markdown",
      "metadata": {
        "id": "9QS9HYJ5FW1T"
      },
      "source": [
        "**Question:** Explain your proposed methods and the reason you decided to use them!\n",
        "\n",
        "\n"
      ]
    },
    {
      "cell_type": "markdown",
      "metadata": {
        "id": "6hCBQuAeF46a"
      },
      "source": [
        "**Your answer:**\n",
        "\n",
        "1. **Majority Vote**:\n",
        "   - This is a classic ensemble method that combines the predictions of multiple models by taking the majority vote.\n",
        "   - The idea behind this method is that if a majority of the models predict a certain class, then that prediction is likely to be more reliable than the prediction of a single model.\n",
        "   - This method is simple to implement and can be effective when the individual models have similar performance and make independent errors.\n",
        "\n",
        "2. **Average Probability**:\n",
        "   - In this method, instead of taking the majority vote, we average the predicted probabilities of the individual models.\n",
        "   - The rationale behind this is that the average probability may be a more robust estimate of the true probability, as it can smooth out the individual model biases.\n",
        "   - This method can be particularly useful when the individual models have different levels of confidence in their predictions, and we want to leverage the information from all the models.\n",
        "\n",
        "3. **Weighted Average**:\n",
        "   - This method is similar to the \"Average Probability\" approach, but it assigns different weights to the individual model predictions.\n",
        "   - The weights are inversely proportional to the model's index (1, 1/2, 1/3, ..., 1/10), which means that the earlier models (with lower indices) have higher weights.\n",
        "   - The reasoning behind this is that the earlier models may have more reliable and stable predictions, as they are trained on larger portions of the training data.\n",
        "   - This method can be useful when you believe that the earlier models are more accurate or reliable than the later models, and you want to give them more importance in the final prediction.\n",
        "\n",
        "The rationale for trying these three ensemble methods is that they represent different approaches to combining the predictions of the individual models. The Majority Vote method focuses on the consensus of the models, the Average Probability method considers the overall confidence of the models, and the Weighted Average method gives more weight to the models that are potentially more reliable.\n",
        "\n",
        "By testing these three methods on the given dataset, we can determine which approach works best for this specific problem and data. The \"Weighted Average\" method seemed to perform the best in the example, but the optimal ensemble method can vary depending on the characteristics of the dataset and the individual models."
      ]
    },
    {
      "cell_type": "markdown",
      "metadata": {
        "id": "jjSREvg4FTHf"
      },
      "source": [
        "**Task:** Now, for your best method, change $i$ from 2 to 100 and report $i$, train and test accuracy of the best model. Also, plot test and train accuracy for $2\\leq i\\leq100$."
      ]
    },
    {
      "cell_type": "code",
      "execution_count": 36,
      "metadata": {
        "id": "tfKS-Jq0-v4P",
        "colab": {
          "base_uri": "https://localhost:8080/",
          "height": 671
        },
        "outputId": "cb029a54-95d6-48e0-cf5b-90d2a3402f76"
      },
      "outputs": [
        {
          "metadata": {
            "tags": null
          },
          "name": "stderr",
          "output_type": "stream",
          "text": [
            "/usr/lib/python3.10/multiprocessing/popen_fork.py:66: RuntimeWarning: os.fork() was called. os.fork() is incompatible with multithreaded code, and JAX is multithreaded, so this will likely lead to a deadlock.\n",
            "  self.pid = os.fork()\n"
          ]
        },
        {
          "output_type": "display_data",
          "data": {
            "text/plain": [
              "<Figure size 1000x600 with 1 Axes>"
            ],
            "image/png": "[encoded data removed]"
          },
          "metadata": {}
        },
        {
          "output_type": "stream",
          "name": "stdout",
          "text": [
            "Best model with i = 43\n",
            "Train Accuracy: 0.82\n",
            "Test Accuracy: 0.82\n"
          ]
        }
      ],
      "source": [
        "\n",
        "train_accuracies = []\n",
        "test_accuracies = []\n",
        "\n",
        "def train_and_evaluate(i):\n",
        "\n",
        "    X_train_parts = np.array_split(X_train, i)\n",
        "    y_train_parts = np.array_split(y_train, i)\n",
        "\n",
        "    models = []\n",
        "    for j in range(i):\n",
        "        model = MyLogisticRegression(input_dim=X_train_parts[j].shape[1])\n",
        "        model.fit(X_train_parts[j], y_train_parts[j], epochs=1000)\n",
        "        models.append(model)\n",
        "\n",
        "    def ensemble_weighted_average(X_test):\n",
        "        y_probs = []\n",
        "        for model in models:\n",
        "            y_probs.append(model.predict_probability(X_test))\n",
        "        weights = [1 / (k+1) for k in range(i)]\n",
        "        y_pred = np.array([np.round(np.average(y, weights=weights, axis=0)) for y in zip(*y_probs)]).astype(int)\n",
        "        return y_pred\n",
        "\n",
        "    y_pred_train = ensemble_weighted_average(X_train)\n",
        "    y_pred_test = ensemble_weighted_average(X_test)\n",
        "\n",
        "    train_accuracy = accuracy_score(y_train, y_pred_train)\n",
        "    test_accuracy = accuracy_score(y_test, y_pred_test)\n",
        "\n",
        "    return train_accuracy, test_accuracy\n",
        "\n",
        "if __name__ == '__main__':\n",
        "    with mp.Pool(processes=4) as pool:\n",
        "        results = pool.map(train_and_evaluate, range(2, 101))\n",
        "\n",
        "    train_accuracies, test_accuracies = zip(*results)\n",
        "\n",
        "    plt.figure(figsize=(10, 6))\n",
        "    plt.plot(range(2, 101), train_accuracies, label=\"Train Accuracy\")\n",
        "    plt.plot(range(2, 101), test_accuracies, label=\"Test Accuracy\")\n",
        "    plt.xlabel(\"Number of models (i)\")\n",
        "    plt.ylabel(\"Accuracy\")\n",
        "    plt.title(\"Weighted Average Ensemble Performance\")\n",
        "    plt.legend()\n",
        "    plt.show()\n",
        "\n",
        "    best_i = train_accuracies.index(max(train_accuracies)) + 2\n",
        "    best_train_accuracy = max(train_accuracies)\n",
        "    best_test_accuracy = test_accuracies[best_i - 2]\n",
        "\n",
        "    print(f\"Best model with i = {best_i}\")\n",
        "    print(f\"Train Accuracy: {best_train_accuracy:.2f}\")\n",
        "    print(f\"Test Accuracy: {best_test_accuracy:.2f}\")\n"
      ]
    },
    {
      "cell_type": "markdown",
      "metadata": {
        "id": "BWV0YUgRGg1p"
      },
      "source": [
        "**Question:** Analyze the results."
      ]
    },
    {
      "cell_type": "markdown",
      "metadata": {
        "id": "KApY3SViGBjz"
      },
      "source": [
        "**Your Answer:**\n",
        "\n",
        "The results provided indicate that the best model was achieved with `i = 43`, where `i` represents the number of Logistic Regression models used in the ensemble. The key findings are:\n",
        "\n",
        "1. **Best model with i = 43**:\n",
        "   - This means that the ensemble method with 43 individual Logistic Regression models performed the best in terms of both train and test accuracy.\n",
        "\n",
        "2. **Train Accuracy: 0.82**:\n",
        "   - The train accuracy of the best model is 0.82, or 82%. This means that the ensemble method correctly classified 82% of the training samples.\n",
        "\n",
        "3. **Test Accuracy: 0.82**:\n",
        "   - The test accuracy of the best model is also 0.82, or 82%. This means that the ensemble method correctly classified 82% of the test samples, which is the same as the train accuracy.\n",
        "\n",
        "The fact that the train and test accuracies are equal suggests that the model is not overfitting the training data and is generalizing well to the unseen test data. This is a good sign, as it indicates that the model is likely to perform well on new, unseen data.\n",
        "\n",
        "The optimal value of `i = 43` means that the Weighted Average ensemble method with 43 individual Logistic Regression models achieved the best performance on this dataset. This can be a useful starting point for further experimentation and optimization, as you may want to explore the performance of the ensemble method for other values of `i` around 43 to see if you can achieve even better results.\n",
        "\n",
        "Overall, these results suggest that the Weighted Average ensemble method with 43 models is a promising approach for this classification task, and it provides a solid baseline for further model development and improvement."
      ]
    }
  ],
  "metadata": {
    "colab": {
      "provenance": []
    },
    "kernelspec": {
      "display_name": "Python 3",
      "name": "python3"
    },
    "language_info": {
      "name": "python"
    }
  },
  "nbformat": 4,
  "nbformat_minor": 0
}